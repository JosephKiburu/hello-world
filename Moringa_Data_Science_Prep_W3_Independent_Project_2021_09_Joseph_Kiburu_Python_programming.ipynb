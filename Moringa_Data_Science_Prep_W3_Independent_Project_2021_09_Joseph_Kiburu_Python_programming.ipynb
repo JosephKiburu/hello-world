{
  "nbformat": 4,
  "nbformat_minor": 0,
  "metadata": {
    "colab": {
      "name": "Moringa_Data_Science_Prep_W3_Independent_Project_2021_09_Joseph_Kiburu_Python programming",
      "provenance": [],
      "collapsed_sections": [],
      "authorship_tag": "ABX9TyP32Rbx1+3O941Tci2TV3IS",
      "include_colab_link": true
    },
    "kernelspec": {
      "name": "python3",
      "display_name": "Python 3"
    },
    "language_info": {
      "name": "python"
    }
  },
  "cells": [
    {
      "cell_type": "markdown",
      "metadata": {
        "id": "view-in-github",
        "colab_type": "text"
      },
      "source": [
        "<a href=\"https://colab.research.google.com/github/JosephKiburu/hello-world/blob/master/Moringa_Data_Science_Prep_W3_Independent_Project_2021_09_Joseph_Kiburu_Python_programming.ipynb\" target=\"_parent\"><img src=\"https://colab.research.google.com/assets/colab-badge.svg\" alt=\"Open In Colab\"/></a>"
      ]
    },
    {
      "cell_type": "code",
      "metadata": {
        "id": "DceCGHGJQAqF"
      },
      "source": [
        "# importing the library to be used\n",
        "\n",
        "import pandas as pd"
      ],
      "execution_count": null,
      "outputs": []
    },
    {
      "cell_type": "code",
      "metadata": {
        "id": "HSJlsfn5sgey"
      },
      "source": [
        "# Loading our datasets\n",
        "# loading our dataset from a csv file\n",
        "# row zero has a header so I skipped it\n",
        "\n",
        "url = '/content/cells_geo.csv'\n",
        "df= pd.read_csv(url, delimiter=';', header=1,  names=['City', 'Status', 'Locality', 'Decoup_zone', 'Zone-name',\n",
        "'Longitude', 'Latitude', 'Region', 'Area', 'Cell_ID', 'Site_ID'])\n",
        "df.head()"
      ],
      "execution_count": null,
      "outputs": []
    },
    {
      "cell_type": "code",
      "metadata": {
        "id": "9HPT7CFoQvl4"
      },
      "source": [
        "# loading our dataset from a csv file\n",
        "\n",
        "url ='/content/Telcom_dataset.csv'\n",
        "df1 = pd.read_csv(url, header=1, names=['Product','Value','Date-Time','Cell_on_Site',\t'DW_A_NUMBER_INT','DW_B_NUMBER_INT','Country_A','Country_B','Cell_ID','Site_ID'])\n",
        "df1\n",
        "df1.head(4)\n"
      ],
      "execution_count": null,
      "outputs": []
    },
    {
      "cell_type": "code",
      "metadata": {
        "id": "2H_itkzzQ99_"
      },
      "source": [
        "# loading our dataset from a csv file\n",
        "\n",
        "url = '/content/Telcom_dataset2.csv'\n",
        "df2 = pd.read_csv(url, header=1, names=['Product','Value','Date-Time','Cell_on_Site',\t'DW_A_NUMBER_INT','DW_B_NUMBER_INT','Country_A','Country_B','Cell_ID','Site_ID'])\n",
        "df2\n",
        "df2.head(5)"
      ],
      "execution_count": null,
      "outputs": []
    },
    {
      "cell_type": "code",
      "metadata": {
        "id": "D7aKz-ECVYuo"
      },
      "source": [
        "# loading our dataset from a csv file\n",
        "\n",
        "url = '/content/Telcom_dataset3.csv'\n",
        "df3 = pd.read_csv(url, header=1, names=['Product','Value','Date-Time','Cell_on_Site',\t'DW_A_NUMBER_INT','DW_B_NUMBER_INT','Country_A','Country_B','Cell_ID','Site_ID'])\n",
        "df3.head(4)"
      ],
      "execution_count": null,
      "outputs": []
    },
    {
      "cell_type": "code",
      "metadata": {
        "id": "JyT4hjQRtpV3"
      },
      "source": [
        "# now to combine the dataframes into one dataframe\n",
        "\n",
        "df_merged=pd.concat([df1,df2,df3],  axis=0)\n",
        "df_merged\n"
      ],
      "execution_count": null,
      "outputs": []
    },
    {
      "cell_type": "code",
      "metadata": {
        "id": "K7_x7eMmTSqF"
      },
      "source": [
        "# Changing our Date-Time column to date time format\n",
        "\n",
        "df_merged['Date-Time'] = pd.to_datetime(df_merged['Date-Time'])\n",
        "df_merged"
      ],
      "execution_count": null,
      "outputs": []
    },
    {
      "cell_type": "code",
      "metadata": {
        "id": "2Si362o69dhN"
      },
      "source": [
        "# dropping columns if all the values in the column are missing values\n",
        "\n",
        "df_merged=df_merged.dropna(axis=1, how='all')\n",
        "df_merged"
      ],
      "execution_count": null,
      "outputs": []
    },
    {
      "cell_type": "code",
      "metadata": {
        "id": "ypgKzCEB-QTc"
      },
      "source": [
        "# Dropping rows where all the cells in the row are missing values\n",
        "\n",
        "df_merged_cleaned = df_merged.dropna(how='all')\n",
        "df_merged_cleaned"
      ],
      "execution_count": null,
      "outputs": []
    },
    {
      "cell_type": "code",
      "metadata": {
        "id": "P2ejdWk-_Kqo"
      },
      "source": [
        "# filling the missing data with zeros\n",
        "\n",
        "df_merged.fillna(0)"
      ],
      "execution_count": null,
      "outputs": []
    },
    {
      "cell_type": "code",
      "metadata": {
        "id": "3dvqfdgBBzQo"
      },
      "source": [
        "# merging our merged dataframe and our cells_geo.csv dataframe and call\n",
        "# it df_new\n",
        "\n",
        "\n",
        "\n",
        "df_new=df_merged.merge(df, how='left', on='Cell_ID')\n",
        "df_new\n"
      ],
      "execution_count": null,
      "outputs": []
    },
    {
      "cell_type": "code",
      "metadata": {
        "id": "k19mizcGKtMO",
        "colab": {
          "base_uri": "https://localhost:8080/"
        },
        "outputId": "6ac0340d-a15f-4cc2-b16c-811045004387"
      },
      "source": [
        "# to find the most used city\n",
        "# I will display the mean of each city's product value using grouping the cities \n",
        "# by their Cell_ID\n",
        "\n",
        "Cell_ID_use= df_new['Value'].groupby(df_new['Cell_ID'])\n",
        "Cell_ID_use.mean()"
      ],
      "execution_count": null,
      "outputs": [
        {
          "output_type": "execute_result",
          "data": {
            "text/plain": [
              "Cell_ID\n",
              "++ctND+jGD    14.888889\n",
              "+38u2u/rfx    16.909091\n",
              "+854AcBQT2    17.111111\n",
              "+Fs4mTvdKx     5.166667\n",
              "+QZ9qRtNxA     6.875000\n",
              "                ...    \n",
              "ff97ccaf78    13.750000\n",
              "ff99709d62    37.500000\n",
              "ffa6759bb2     7.658317\n",
              "ffb86d66d2    12.222222\n",
              "ffcc507579    22.750000\n",
              "Name: Value, Length: 2677, dtype: float64"
            ]
          },
          "metadata": {},
          "execution_count": 275
        }
      ]
    },
    {
      "cell_type": "code",
      "metadata": {
        "id": "fj1xQLjYkWD1",
        "colab": {
          "base_uri": "https://localhost:8080/"
        },
        "outputId": "a5c9159a-d431-4eed-c94d-859051cba539"
      },
      "source": [
        "# most used product\n",
        "Product_use= df_new['Value'].groupby(df_new['Product'])\n",
        "Product_use.mean()"
      ],
      "execution_count": null,
      "outputs": [
        {
          "output_type": "execute_result",
          "data": {
            "text/plain": [
              "Product\n",
              "Voice    55.178672\n",
              "data      7.628861\n",
              "sms       7.556860\n",
              "Name: Value, dtype: float64"
            ]
          },
          "metadata": {},
          "execution_count": 274
        }
      ]
    },
    {
      "cell_type": "code",
      "metadata": {
        "id": "NY-9YeqZmWhC",
        "colab": {
          "base_uri": "https://localhost:8080/"
        },
        "outputId": "905f7e3c-fec3-43de-e746-33ecdbc5b7e0"
      },
      "source": [
        "# the cell Id which got the highest revenue\n",
        "\n",
        "Cell_ID_Revenue= df_new['Value'].groupby(df_new['Cell_ID'])\n",
        "Cell_ID_Revenue.mean()"
      ],
      "execution_count": null,
      "outputs": [
        {
          "output_type": "execute_result",
          "data": {
            "text/plain": [
              "Cell_ID\n",
              "++ctND+jGD    14.888889\n",
              "+38u2u/rfx    16.909091\n",
              "+854AcBQT2    17.111111\n",
              "+Fs4mTvdKx     5.166667\n",
              "+QZ9qRtNxA     6.875000\n",
              "                ...    \n",
              "ff97ccaf78    13.750000\n",
              "ff99709d62    37.500000\n",
              "ffa6759bb2     7.658317\n",
              "ffb86d66d2    12.222222\n",
              "ffcc507579    22.750000\n",
              "Name: Value, Length: 2677, dtype: float64"
            ]
          },
          "metadata": {},
          "execution_count": 279
        }
      ]
    },
    {
      "cell_type": "code",
      "metadata": {
        "id": "UjO8NyT2UE86"
      },
      "source": [
        ""
      ],
      "execution_count": null,
      "outputs": []
    }
  ]
}